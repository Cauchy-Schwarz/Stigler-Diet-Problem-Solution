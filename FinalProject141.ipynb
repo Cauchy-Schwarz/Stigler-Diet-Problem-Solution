{
 "cells": [
  {
   "cell_type": "markdown",
   "id": "4bbff88c-eeee-4415-ac9b-38022d5033a7",
   "metadata": {},
   "source": [
    "\n",
    "                                                                          Abstract \n",
    "<sub>\n",
    "This paper aims to address the classic Stigler Diet problem by incorporating up-to-date supermarket\n",
    "data and nutritional information from the US Department of Agriculture. The study begins by scraping\n",
    "food prices and food names from dynamic supermarket websites by using Python libraries Selenium,\n",
    "and BeautifulSoup. To associate the scraped food items with their corresponding nutritional values,\n",
    "the Levenshtein distance is employed as a similarity measure between food names corresponding to\n",
    "nutritional values found in the US Department of Agriculture. The primal-dual path-following method,\n",
    "an interior-point algorithm for solving linear programming problems, is utilized to find the optimal Stigler\n",
    "Diet.\n",
    "</sub>\n",
    " \n",
    "\n",
    "&nbsp;\n",
    "&nbsp;\n",
    "\n",
    "# 1. Introduction:\n",
    " \n",
    " The Stigler Diet problem is a classic optimization problem in linear programming, proposed by George Stigler in 1945 for whcih he later won the Nobel Prize. The goal of the problem is to find the least expensive combination of foods that meets a given set of nutritional requirements. Stigler used data on food prices and nutritional content to identify a diet that would minimize the cost while satisfying the recommended daily allowances (RDAs) of various nutrients. However, it has the following limitations:\n",
    "\n",
    "\n",
    "* Individual nutrient requirements can vary based on factors such as age, gender, activity level, and health status.\n",
    "* It focuses solely on minimizing cost, disregarding factors such as taste, cultural preferences, and individual food aversions (like food allergies).\n",
    "* It does not account for the importance of variety and a balanced diet.\n",
    "* Food prices, availability, and nutritional content may change over time.\n",
    "* It misses other essential nutrients or non-nutrient factors that contribute to a healthy diet.\n",
    "\n",
    "### Case Study Safeway: Dynamic website data scraped with Selenium and Beautiful Soup\n",
    "\n",
    "Using https://www.safeway.com/, it was quickly realized that this is a dynamic website, meaning just requesting it and using BeautifulSoup would not be enough. Selenium was imported to deal with dynamic websites."
   ]
  },
  {
   "cell_type": "code",
   "execution_count": 7,
   "id": "d932ff3a-d276-48df-a016-939d4b024f44",
   "metadata": {},
   "outputs": [],
   "source": [
    "import pandas as pd\n",
    "import numpy as np\n",
    "from selenium import webdriver\n",
    "from selenium.webdriver.common.keys import Keys\n",
    "from bs4 import BeautifulSoup\n",
    "from selenium import webdriver\n",
    "import time\n",
    "import re\n",
    "\n",
    "\n",
    "# Set display options to show all rows and columns (it is going to be useful later on for data cleaning)\n",
    "# pd.set_option('display.max_rows', None)\n",
    "# pd.set_option('display.max_columns', None)\n"
   ]
  },
  {
   "cell_type": "code",
   "execution_count": 14,
   "id": "2e429403-e272-4bb8-a81c-523097011aba",
   "metadata": {},
   "outputs": [],
   "source": [
    "\n",
    "# THIS WAS OK IN JUST SOME ITEMS, BETTER WAYS FOUND\n",
    "# Set up Selenium webdriver\n",
    "driver = webdriver.Chrome()\n",
    "\n",
    "#GETTING MEAT-SEAFOOD DATA\n",
    "driver.get(\"https://www.safeway.com/shop/aisles/meat-seafood.3132.html\")\n",
    "\n",
    "# Wait for the dynamically loaded content to load\n",
    "time.sleep(5)\n",
    "\n",
    "# Use Selenium to scroll down the page and load more products\n",
    "for i in range(3):\n",
    "    driver.execute_script(\"window.scrollBy(0, 500);\")\n",
    "    time.sleep(2)\n",
    "\n",
    "# Get the HTML of the page and parse it with BeautifulSoup\n",
    "# KEEP THESE DATA SAVED\n",
    "html = driver.page_source\n",
    "meat_seafood = BeautifulSoup(html, 'html.parser')\n",
    "\n",
    "# Close the browser window\n",
    "driver.quit()"
   ]
  },
  {
   "cell_type": "code",
   "execution_count": 2,
   "id": "5b122ae2-c33f-4613-b43e-3b3ab8e487ed",
   "metadata": {
    "tags": []
   },
   "outputs": [],
   "source": [
    "# Find all products on the page\n",
    "products = meat_seafood.find_all('div', {'class': 'product-title'}, {'data-name'})\n",
    "\n",
    "\n",
    "meat_names = []\n",
    "meat_prices = []\n",
    "# Extract the name and price of each product\n",
    "for product in products:\n",
    "    name = product.a.get('aria-label')\n",
    "    price = product.find('div', {'class': 'product-title__qty'}).text\n",
    "    meat_names.append(name)\n",
    "    meat_prices.append(price)\n",
    "# print(meat_names, meat_prices)\n",
    "\n",
    "df_meat_seafood = pd.DataFrame({'Meat Names': meat_names, 'Meat Prices': meat_prices})\n",
    "df_meat_seafood\n"
   ]
  },
  {
   "cell_type": "markdown",
   "id": "0a1eb677-3b46-4dd1-b7ea-10ce0f9123ec",
   "metadata": {},
   "source": [
    "While the previous method works, it is limited in its scope for two reasons. That specific page has releases\n",
    "of the most popular items. Another approach was used where all the items of specific food types were kept.\n",
    "However, this website had to be manually loaded. A script to automatically ”click” to load more was used\n",
    "but it failed. Ultimately, Selenium allows for manually telling it when to fetch the data. The product’s name\n",
    "and respective price were found with:"
   ]
  },
  {
   "cell_type": "code",
   "execution_count": 36,
   "id": "b27e122c-8551-43cf-8693-3638e6ea22e5",
   "metadata": {},
   "outputs": [
    {
     "name": "stdin",
     "output_type": "stream",
     "text": [
      "Scroll down to the desired location on the page, then press Enter to continue... \n"
     ]
    }
   ],
   "source": [
    "# GETTING ALL MEAT AND SEAFOOD\n",
    "\n",
    "driver = webdriver.Chrome()\n",
    "driver.get(\"https://www.safeway.com/shop/search-results.html?q=meat\")\n",
    "\n",
    "# Manually scroll down the page to the desired location\n",
    "input(\"Scroll down to the desired location on the page, then press Enter to continue...\")\n",
    "\n",
    "\n",
    "# Get the HTML of the page and parse it with BeautifulSoup\n",
    "# KEEP THESE DATA SAVED\n",
    "html = driver.page_source\n",
    "all_meat_seafood = BeautifulSoup(html, 'html.parser')\n",
    "\n",
    "# Close the browser window\n",
    "driver.quit()"
   ]
  },
  {
   "cell_type": "code",
   "execution_count": 3,
   "id": "0dee782a-eb3a-4cf9-a013-9d588999b371",
   "metadata": {
    "tags": []
   },
   "outputs": [],
   "source": [
    "# Find all MEAT AND SEAFOOD products on the page\n",
    "\n",
    "products_names = all_meat_seafood.find_all('a', {'data-qa': 'prd-itm-pttl'}, {'class': 'product-title__name'})\n",
    "products_prices = all_meat_seafood.find_all('div', {'data-qa': 'prd-itm-pprc-qty'}, {'class': 'product-title__name'})\n",
    "\n",
    "all_meat_seafood_names = [name.text for name in products_names]\n",
    "all_meat_seafood_prices = [name.text for name in products_prices]\n",
    "\n",
    "\n",
    "df_all_meat_seafood = pd.DataFrame({'All Meat & Seafood Names': all_meat_seafood_names, 'All Meat & Seafood Prices': all_meat_seafood_prices})\n",
    "df_all_meat_seafood.to_csv('all_meat_seafood.csv', index=False)"
   ]
  },
  {
   "cell_type": "code",
   "execution_count": 8,
   "id": "95b1af45-cdbf-4d48-8d30-9fda660788fa",
   "metadata": {},
   "outputs": [
    {
     "name": "stdout",
     "output_type": "stream",
     "text": [
      "                            All Meat & Seafood Names All Meat & Seafood Prices\n",
      "0   Ground Beef 80% Lean 20% Fat Value Pack - 3 Lbs.              ($4.99 / Lb)\n",
      "1        Lauras Ground Beef 85% Lean 15% Fat - 1 Lb.              ($7.99 / Lb)\n",
      "2              USDA Choice Beef For Stew - 1.50 Lbs.              ($7.99 / Lb)\n",
      "3  Signature Farms Bone In Chicken Thighs Value P...              ($2.49 / Lb)\n",
      "4  USDA Choice Beef Tenderloin Filet Mignon Steak...             ($23.99 / Lb)\n"
     ]
    }
   ],
   "source": [
    "data = pd.read_csv('all_meat_seafood.csv')\n",
    "print(data.head())"
   ]
  },
  {
   "cell_type": "code",
   "execution_count": 40,
   "id": "7840351a-b94f-4507-aeb8-462e2c18ff16",
   "metadata": {},
   "outputs": [
    {
     "name": "stdin",
     "output_type": "stream",
     "text": [
      "Scroll down to the desired location on the page, then press Enter to continue... \n"
     ]
    }
   ],
   "source": [
    "#GETTING Yogurt & Pudding\n",
    "\n",
    "driver = webdriver.Chrome()\n",
    "driver.get(\"https://www.safeway.com/shop/aisles/dairy-eggs-cheese/yogurt-pudding.3132.html\")\n",
    "\n",
    "# Manually scroll down the page to the desired location\n",
    "input(\"Scroll down to the desired location on the page, then press Enter to continue...\")\n",
    "\n",
    "\n",
    "# Get the HTML of the page and parse it with BeautifulSoup\n",
    "# KEEP THESE DATA SAVED\n",
    "html = driver.page_source\n",
    "all_yogurt_pudding = BeautifulSoup(html, 'html.parser')\n",
    "\n",
    "# Close the browser window\n",
    "driver.quit()"
   ]
  },
  {
   "cell_type": "code",
   "execution_count": 10,
   "id": "a05e986d-7881-4989-bd81-c05a39c11f1a",
   "metadata": {
    "tags": []
   },
   "outputs": [],
   "source": [
    "# Find all Yogurt & Pudding products on the page\n",
    "\n",
    "products_names = all_yogurt_pudding.find_all('a', {'data-qa': 'prd-itm-pttl'}, {'class': 'product-title__name'})\n",
    "products_prices = all_yogurt_pudding.find_all('div', {'data-qa': 'prd-itm-pprc-qty'}, {'class': 'product-title__name'})\n",
    "\n",
    "all_yogurt_pudding_names = [name.text for name in products_names]\n",
    "all_yogurt_pudding_prices = [name.text for name in products_prices]\n",
    "\n",
    "\n",
    "df_all_yogurt_pudding = pd.DataFrame({'All Yogurt & Pudding Names': all_yogurt_pudding_names, 'All Yogurt & Pudding Prices': all_yogurt_pudding_prices})\n",
    "df_all_yogurt_pudding.to_csv('all_yogurt_pudding.csv', index=False)"
   ]
  },
  {
   "cell_type": "code",
   "execution_count": 9,
   "id": "8b05d0e1-0b40-4a0a-8855-eb5429d74a0b",
   "metadata": {},
   "outputs": [
    {
     "name": "stdout",
     "output_type": "stream",
     "text": [
      "                          All Yogurt & Pudding Names  \\\n",
      "0  Yoplait Original Yogurt Low Fat Strawberry Che...   \n",
      "1                      Zoi Greek Lemon Cream - 32 Oz   \n",
      "2   FAGE Total 0% Milkfat Plain Greek Yogurt - 32 Oz   \n",
      "3  Oikos Triple Zero Mixed Berry... ek Yogurt - 4...   \n",
      "4  Yoplait Original Yogurt Low Fa... rvest Peach ...   \n",
      "\n",
      "  All Yogurt & Pudding Prices  \n",
      "0             ($0.16 / Ounce)  \n",
      "1             ($0.17 / Ounce)  \n",
      "2             ($0.22 / Ounce)  \n",
      "3             ($0.26 / Ounce)  \n",
      "4             ($0.15 / Ounce)  \n"
     ]
    }
   ],
   "source": [
    "data = pd.read_csv('all_yogurt_pudding.csv')\n",
    "print(data.head())"
   ]
  },
  {
   "cell_type": "code",
   "execution_count": 76,
   "id": "9d60e757-41a2-4b8f-b309-b2c1bc1740d1",
   "metadata": {},
   "outputs": [
    {
     "name": "stdin",
     "output_type": "stream",
     "text": [
      "Scroll down to the desired location on the page, then press Enter to continue... \n"
     ]
    }
   ],
   "source": [
    "#GETTING Cheese\n",
    "\n",
    "driver = webdriver.Chrome()\n",
    "driver.get(\"https://www.safeway.com/shop/aisles/dairy-eggs-cheese/cheese.3132.html\")\n",
    "\n",
    "# Manually scroll down the page to the desired location\n",
    "input(\"Scroll down to the desired location on the page, then press Enter to continue...\")\n",
    "\n",
    "\n",
    "# Get the HTML of the page and parse it with BeautifulSoup\n",
    "# KEEP THESE DATA SAVED\n",
    "html = driver.page_source\n",
    "all_cheese = BeautifulSoup(html, 'html.parser')\n",
    "\n",
    "# Close the browser window\n",
    "driver.quit()"
   ]
  },
  {
   "cell_type": "code",
   "execution_count": 12,
   "id": "4e3dc954-4a8e-4618-b134-8363d9aaa1ce",
   "metadata": {
    "tags": []
   },
   "outputs": [],
   "source": [
    "# Find all Cheese products on the page\n",
    "\n",
    "products_names = all_cheese.find_all('a', {'data-qa': 'prd-itm-pttl'}, {'class': 'product-title__name'})\n",
    "products_prices = all_cheese.find_all('div', {'data-qa': 'prd-itm-pprc-qty'}, {'class': 'product-title__name'})\n",
    "\n",
    "all_cheese_names = [name.text for name in products_names]\n",
    "all_cheese_prices = [name.text for name in products_prices]\n",
    "\n",
    "\n",
    "df_all_cheese = pd.DataFrame({'All Cheese Names': all_cheese_names, 'All Cheese Prices': all_cheese_prices})\n",
    "df_all_cheese.to_csv('all_cheese.csv', index=False)"
   ]
  },
  {
   "cell_type": "code",
   "execution_count": 11,
   "id": "cb16c3a3-339c-454a-acab-3159e373575e",
   "metadata": {},
   "outputs": [
    {
     "name": "stdout",
     "output_type": "stream",
     "text": [
      "                                    All Cheese Names All Cheese Prices\n",
      "0      Lucerne Cheese Natural Medium Cheddar - 32 Oz   ($0.31 / Ounce)\n",
      "1  Frigo Cheese Heads String Chee... ck 8 Count -...   ($0.55 / Ounce)\n",
      "2               Lucerne Cheese Sharp Cheddar - 32 Oz   ($0.31 / Ounce)\n",
      "3  Frigo Cheese Heads Cheese String 24 Count - 24 Oz   ($0.36 / Ounce)\n",
      "4          Lucerne Cheese Natural Colby Jack - 32 Oz   ($0.31 / Ounce)\n"
     ]
    }
   ],
   "source": [
    "data = pd.read_csv('all_cheese.csv')\n",
    "print(data.head())"
   ]
  },
  {
   "cell_type": "code",
   "execution_count": 46,
   "id": "e995efc5-5275-4cf1-8715-31e8f6228134",
   "metadata": {},
   "outputs": [
    {
     "name": "stdin",
     "output_type": "stream",
     "text": [
      "Scroll down to the desired location on the page, then press Enter to continue... \n"
     ]
    }
   ],
   "source": [
    "#GETTING MILK & CREAM\n",
    "\n",
    "driver = webdriver.Chrome()\n",
    "driver.get(\"https://www.safeway.com/shop/aisles/dairy-eggs-cheese/milk-cream.3132.html\")\n",
    "\n",
    "# Manually scroll down the page to the desired location\n",
    "input(\"Scroll down to the desired location on the page, then press Enter to continue...\")\n",
    "\n",
    "\n",
    "# Get the HTML of the page and parse it with BeautifulSoup\n",
    "# KEEP THESE DATA SAVED\n",
    "html = driver.page_source\n",
    "all_milk_cream = BeautifulSoup(html, 'html.parser')\n",
    "\n",
    "# Close the browser window\n",
    "driver.quit()"
   ]
  },
  {
   "cell_type": "code",
   "execution_count": 13,
   "id": "67d3a7be-f53b-4294-8873-8c531a8bb189",
   "metadata": {
    "tags": []
   },
   "outputs": [],
   "source": [
    "# Find all MILK & CREAM products on the page\n",
    "\n",
    "products_names = all_milk_cream.find_all('a', {'data-qa': 'prd-itm-pttl'}, {'class': 'product-title__name'})\n",
    "products_prices = all_milk_cream.find_all('div', {'data-qa': 'prd-itm-pprc-qty'}, {'class': 'product-title__name'})\n",
    "\n",
    "all_milk_cream_names = [name.text for name in products_names]\n",
    "all_milk_cream_prices = [name.text for name in products_prices]\n",
    "\n",
    "\n",
    "df_all_milk_cream = pd.DataFrame({'All Cheese Names': all_milk_cream_names, 'All Cheese Prices': all_milk_cream_prices})\n",
    "df_all_milk_cream.to_csv('all_milk_cream.csv', index=False)"
   ]
  },
  {
   "cell_type": "code",
   "execution_count": 14,
   "id": "5f9cd495-2a83-48ee-9073-bfb34c0eb78d",
   "metadata": {},
   "outputs": [
    {
     "name": "stdout",
     "output_type": "stream",
     "text": [
      "                                    All Cheese Names All Cheese Prices\n",
      "0          Lucerne Milk Whole 1 Gallon - 128 Fl. Oz.   ($0.05 / Fl.oz)\n",
      "1    Lucerne Milk - Half Gallon (container may vary)   ($0.06 / Fl.oz)\n",
      "2          Lucerne Heavy Whipping Cream - 32 Fl. Oz.   ($0.24 / Fl.oz)\n",
      "3                Lactaid 2% Reduced Fat Milk - 96 Oz   ($0.08 / Fl.oz)\n",
      "4  O Organics Organic Whole Milk with Vitamin D -...   ($0.06 / Fl.oz)\n"
     ]
    }
   ],
   "source": [
    "data = pd.read_csv('all_milk_cream.csv')\n",
    "print(data.head())"
   ]
  },
  {
   "cell_type": "code",
   "execution_count": 51,
   "id": "4821acd4-dcd0-4405-8645-0ad14678b2d6",
   "metadata": {},
   "outputs": [
    {
     "name": "stdin",
     "output_type": "stream",
     "text": [
      "Scroll down to the desired location on the page, then press Enter to continue... \n"
     ]
    }
   ],
   "source": [
    "#GETTING BUTTER & SOUR CREAM\n",
    "\n",
    "driver = webdriver.Chrome()\n",
    "driver.get(\"https://www.safeway.com/shop/aisles/dairy-eggs-cheese/butter-sour-cream.3132.html\")\n",
    "\n",
    "# Manually scroll down the page to the desired location\n",
    "input(\"Scroll down to the desired location on the page, then press Enter to continue...\")\n",
    "\n",
    "\n",
    "# Get the HTML of the page and parse it with BeautifulSoup\n",
    "# KEEP THESE DATA SAVED\n",
    "html = driver.page_source\n",
    "all_butter_sour_cream = BeautifulSoup(html, 'html.parser')\n",
    "\n",
    "# Close the browser window\n",
    "driver.quit()"
   ]
  },
  {
   "cell_type": "code",
   "execution_count": 15,
   "id": "357c98d1-c6fe-4b9e-a120-f88dbbed1571",
   "metadata": {
    "tags": []
   },
   "outputs": [],
   "source": [
    "# Find all BUTTER & SOUR CREAM products on the page\n",
    "\n",
    "products_names = all_butter_sour_cream.find_all('a', {'data-qa': 'prd-itm-pttl'}, {'class': 'product-title__name'})\n",
    "products_prices = all_butter_sour_cream.find_all('div', {'data-qa': 'prd-itm-pprc-qty'}, {'class': 'product-title__name'})\n",
    "\n",
    "all_butter_sour_cream_names = [name.text for name in products_names]\n",
    "all_butter_sour_cream_prices = [name.text for name in products_prices]\n",
    "\n",
    "\n",
    "df_all_butter_sour_cream = pd.DataFrame({'All Butter & Sour Cream Names': all_butter_sour_cream_names, 'All Butter & Sour Cream Prices': all_butter_sour_cream_prices})\n",
    "df_all_butter_sour_cream.to_csv('all_butter_sour_cream.csv', index=False)"
   ]
  },
  {
   "cell_type": "code",
   "execution_count": 17,
   "id": "743d7930-33f4-4243-9892-72cbe4bda63a",
   "metadata": {},
   "outputs": [
    {
     "name": "stdout",
     "output_type": "stream",
     "text": [
      "                       All Butter & Sour Cream Names  \\\n",
      "0  Lucerne Butter Salted Sweet Cream 4 Quarters -...   \n",
      "1       Earth Balance Vegan Buttery Sticks - 4-16 Oz   \n",
      "2                    Challenge Butter Salted - 16 Oz   \n",
      "3     Earth Balance Olive Oil Buttery Spread - 13 Oz   \n",
      "4  Lucerne Unsalted Sweet Cream Butter Quarters -...   \n",
      "\n",
      "  All Butter & Sour Cream Prices  \n",
      "0                ($0.37 / Ounce)  \n",
      "1                ($0.44 / Ounce)  \n",
      "2                ($0.37 / Ounce)  \n",
      "3                ($0.54 / Ounce)  \n",
      "4                ($0.37 / Ounce)  \n"
     ]
    }
   ],
   "source": [
    "data = pd.read_csv('all_butter_sour_cream.csv')\n",
    "print(data.head())"
   ]
  },
  {
   "cell_type": "code",
   "execution_count": 53,
   "id": "113bdbbf-5f0f-47d0-a3c8-adffe961e640",
   "metadata": {},
   "outputs": [
    {
     "name": "stdin",
     "output_type": "stream",
     "text": [
      "Scroll down to the desired location on the page, then press Enter to continue... \n"
     ]
    }
   ],
   "source": [
    "#GETTING EGGS\n",
    "\n",
    "driver = webdriver.Chrome()\n",
    "driver.get(\"https://www.safeway.com/shop/aisles/dairy-eggs-cheese/eggs.3132.html\")\n",
    "\n",
    "# Manually scroll down the page to the desired location\n",
    "input(\"Scroll down to the desired location on the page, then press Enter to continue...\")\n",
    "\n",
    "\n",
    "# Get the HTML of the page and parse it with BeautifulSoup\n",
    "# KEEP THESE DATA SAVED\n",
    "html = driver.page_source\n",
    "all_eggs = BeautifulSoup(html, 'html.parser')\n",
    "\n",
    "# Close the browser window\n",
    "driver.quit()"
   ]
  },
  {
   "cell_type": "code",
   "execution_count": 18,
   "id": "c15b841e-8f2d-4f86-ba84-b024007d9ad1",
   "metadata": {
    "tags": []
   },
   "outputs": [],
   "source": [
    "# Find all EGGS products on the page\n",
    "\n",
    "products_names = all_eggs.find_all('a', {'data-qa': 'prd-itm-pttl'}, {'class': 'product-title__name'})\n",
    "products_prices = all_eggs.find_all('div', {'data-qa': 'prd-itm-pprc-qty'}, {'class': 'product-title__name'})\n",
    "\n",
    "all_eggs_names = [name.text for name in products_names]\n",
    "all_eggs_prices = [name.text for name in products_prices]\n",
    "\n",
    "\n",
    "df_all_eggs = pd.DataFrame({'All Eggs Names': all_eggs_names, 'All Eggs Prices': all_eggs_prices})\n",
    "df_all_eggs\n",
    "df_all_eggs.to_csv('all_eggs.csv', index=False)"
   ]
  },
  {
   "cell_type": "code",
   "execution_count": 19,
   "id": "26e1f306-da26-4a6d-b835-dcb30c32ade0",
   "metadata": {},
   "outputs": [
    {
     "name": "stdout",
     "output_type": "stream",
     "text": [
      "                                      All Eggs Names  All Eggs Prices\n",
      "0      Lucerne Farms Eggs Cage Free Large - 18 Count  ($4.66 / Dozen)\n",
      "1  Vital Farms Pasture-Raised Eggs - Large - 18 C...  ($7.33 / Dozen)\n",
      "2      Lucerne Farms Eggs Large Cage Free - 12 Count  ($4.89 / Dozen)\n",
      "3                  Vital Farms Eggs Large - 12 Count  ($8.99 / Dozen)\n",
      "4     O Organics Organic Eggs Large Brown - 12 Count  ($5.99 / Dozen)\n"
     ]
    }
   ],
   "source": [
    "data = pd.read_csv('all_eggs.csv')\n",
    "print(data.head())"
   ]
  },
  {
   "cell_type": "code",
   "execution_count": 55,
   "id": "aa13d85e-28bd-4359-9852-6c4e50f28bc2",
   "metadata": {},
   "outputs": [
    {
     "name": "stdin",
     "output_type": "stream",
     "text": [
      "Scroll down to the desired location on the page, then press Enter to continue... \n"
     ]
    }
   ],
   "source": [
    "#GETTING RICE\n",
    "\n",
    "driver = webdriver.Chrome()\n",
    "driver.get(\"https://www.safeway.com/shop/aisles/grains-pasta-sides/rice.3132.html\")\n",
    "\n",
    "# Manually scroll down the page to the desired location\n",
    "input(\"Scroll down to the desired location on the page, then press Enter to continue...\")\n",
    "\n",
    "\n",
    "# Get the HTML of the page and parse it with BeautifulSoup\n",
    "# KEEP THESE DATA SAVED\n",
    "html = driver.page_source\n",
    "all_rice = BeautifulSoup(html, 'html.parser')\n",
    "\n",
    "# Close the browser window\n",
    "driver.quit()"
   ]
  },
  {
   "cell_type": "code",
   "execution_count": 20,
   "id": "d2555993-726f-4457-9a98-00222099feba",
   "metadata": {
    "tags": []
   },
   "outputs": [],
   "source": [
    "# Find all RICE products on the page\n",
    "\n",
    "products_names = all_rice.find_all('a', {'data-qa': 'prd-itm-pttl'}, {'class': 'product-title__name'})\n",
    "products_prices = all_rice.find_all('div', {'data-qa': 'prd-itm-pprc-qty'}, {'class': 'product-title__name'})\n",
    "\n",
    "all_rice_names = [name.text for name in products_names]\n",
    "all_rice_prices = [name.text for name in products_prices]\n",
    "\n",
    "\n",
    "df_all_rice = pd.DataFrame({'All Rice Names': all_rice_names, 'All Rice Prices': all_rice_prices})\n",
    "df_all_rice.to_csv('all_rice.csv', index=False)"
   ]
  },
  {
   "cell_type": "code",
   "execution_count": 21,
   "id": "899a4d72-c71b-4399-ae62-87f04d04e9cd",
   "metadata": {},
   "outputs": [
    {
     "name": "stdout",
     "output_type": "stream",
     "text": [
      "                                      All Rice Names  All Rice Prices\n",
      "0   Signature SELECT Rice Enriched Long Grain - 5 Lb     ($1.10 / Lb)\n",
      "1                       Mahatma Rice Jasmine - 80 Oz     ($1.80 / Lb)\n",
      "2  Signature SELECT Rice Thai Jasmine Long Grain ...     ($2.25 / Lb)\n",
      "3  Signature SELECT Rice Enriched Long Grain - 32 Oz  ($0.08 / Ounce)\n",
      "4  Ben's Original Parboiled Long... Dry Rice Box ...     ($2.75 / Lb)\n"
     ]
    }
   ],
   "source": [
    "data = pd.read_csv('all_rice.csv')\n",
    "print(data.head())"
   ]
  },
  {
   "cell_type": "code",
   "execution_count": 57,
   "id": "23be3a1b-e1fa-4256-af39-d16333a00807",
   "metadata": {},
   "outputs": [
    {
     "name": "stdin",
     "output_type": "stream",
     "text": [
      "Scroll down to the desired location on the page, then press Enter to continue... \n"
     ]
    }
   ],
   "source": [
    "#GETTING STUFFING\n",
    "\n",
    "driver = webdriver.Chrome()\n",
    "driver.get(\"https://www.safeway.com/shop/aisles/grains-pasta-sides/stuffing-mix.3132.html\")\n",
    "\n",
    "# Manually scroll down the page to the desired location\n",
    "input(\"Scroll down to the desired location on the page, then press Enter to continue...\")\n",
    "\n",
    "\n",
    "# Get the HTML of the page and parse it with BeautifulSoup\n",
    "# KEEP THESE DATA SAVED\n",
    "html = driver.page_source\n",
    "all_stuffing = BeautifulSoup(html, 'html.parser')\n",
    "\n",
    "# Close the browser window\n",
    "driver.quit()"
   ]
  },
  {
   "cell_type": "code",
   "execution_count": 22,
   "id": "63e031f9-acf0-4947-9846-d9522fa00700",
   "metadata": {
    "tags": []
   },
   "outputs": [],
   "source": [
    "# Find all STUFFING products on the page\n",
    "\n",
    "products_names = all_stuffing.find_all('a', {'data-qa': 'prd-itm-pttl'}, {'class': 'product-title__name'})\n",
    "products_prices = all_stuffing.find_all('div', {'data-qa': 'prd-itm-pprc-qty'}, {'class': 'product-title__name'})\n",
    "\n",
    "all_stuffing_names = [name.text for name in products_names]\n",
    "all_stuffing_prices = [name.text for name in products_prices]\n",
    "\n",
    "\n",
    "df_all_stuffing = pd.DataFrame({'All Stuffing Names': all_stuffing_names, 'All Stuffing Prices': all_stuffing_prices})\n",
    "df_all_stuffing.to_csv('all_stuffing.csv', index=False)"
   ]
  },
  {
   "cell_type": "code",
   "execution_count": 23,
   "id": "1a290a6c-4f3b-4129-bdbb-fbbc48733931",
   "metadata": {},
   "outputs": [
    {
     "name": "stdout",
     "output_type": "stream",
     "text": [
      "                                  All Stuffing Names All Stuffing Prices\n",
      "0     Stove Top Savory Herbs Stuffing Mix Box - 6 Oz     ($0.63 / Ounce)\n",
      "1  Signature SELECT Stuffing Mix Chicken Flavored...     ($0.33 / Ounce)\n",
      "2      Stove Top Stuffing Mix for Chicken Box - 6 Oz     ($0.63 / Ounce)\n",
      "3        Stove Top Cornbread Stuffing Mix Box - 6 Oz     ($0.63 / Ounce)\n",
      "4       Stove Top Stuffing Mix for Turkey Box - 6 Oz     ($0.63 / Ounce)\n"
     ]
    }
   ],
   "source": [
    "data = pd.read_csv('all_stuffing.csv')\n",
    "print(data.head())"
   ]
  },
  {
   "cell_type": "code",
   "execution_count": 59,
   "id": "a5f39bdf-45ec-4c37-9848-45c2c998fba3",
   "metadata": {},
   "outputs": [
    {
     "name": "stdin",
     "output_type": "stream",
     "text": [
      "Scroll down to the desired location on the page, then press Enter to continue... \n"
     ]
    }
   ],
   "source": [
    "#GETTING GRAINS\n",
    "\n",
    "driver = webdriver.Chrome()\n",
    "driver.get(\"https://www.safeway.com/shop/aisles/grains-pasta-sides/grains.3132.html\")\n",
    "\n",
    "# Manually scroll down the page to the desired location\n",
    "input(\"Scroll down to the desired location on the page, then press Enter to continue...\")\n",
    "\n",
    "\n",
    "# Get the HTML of the page and parse it with BeautifulSoup\n",
    "# KEEP THESE DATA SAVED\n",
    "html = driver.page_source\n",
    "all_grains = BeautifulSoup(html, 'html.parser')\n",
    "\n",
    "# Close the browser window\n",
    "driver.quit()"
   ]
  },
  {
   "cell_type": "code",
   "execution_count": 60,
   "id": "1621e8be-7528-4d43-9643-bccba17311f6",
   "metadata": {
    "collapsed": true,
    "jupyter": {
     "outputs_hidden": true
    },
    "tags": []
   },
   "outputs": [
    {
     "data": {
      "text/html": [
       "<div>\n",
       "<style scoped>\n",
       "    .dataframe tbody tr th:only-of-type {\n",
       "        vertical-align: middle;\n",
       "    }\n",
       "\n",
       "    .dataframe tbody tr th {\n",
       "        vertical-align: top;\n",
       "    }\n",
       "\n",
       "    .dataframe thead th {\n",
       "        text-align: right;\n",
       "    }\n",
       "</style>\n",
       "<table border=\"1\" class=\"dataframe\">\n",
       "  <thead>\n",
       "    <tr style=\"text-align: right;\">\n",
       "      <th></th>\n",
       "      <th>All Grains Names</th>\n",
       "      <th>All Grains Prices</th>\n",
       "    </tr>\n",
       "  </thead>\n",
       "  <tbody>\n",
       "    <tr>\n",
       "      <th>0</th>\n",
       "      <td>O Organics Organic Quinoa - 16 Oz</td>\n",
       "      <td>($0.50 / Ounce)</td>\n",
       "    </tr>\n",
       "    <tr>\n",
       "      <th>1</th>\n",
       "      <td>Signature SELECT Beans Pearl Barley Dry - 16 Oz</td>\n",
       "      <td>($0.14 / Ounce)</td>\n",
       "    </tr>\n",
       "    <tr>\n",
       "      <th>2</th>\n",
       "      <td>O Organics Organic Quinoa Quick-Cook - 8 Oz</td>\n",
       "      <td>($0.62 / Ounce)</td>\n",
       "    </tr>\n",
       "    <tr>\n",
       "      <th>3</th>\n",
       "      <td>O Organics Organic Quinoa - 64 Oz</td>\n",
       "      <td>($6.25 / Lb)</td>\n",
       "    </tr>\n",
       "    <tr>\n",
       "      <th>4</th>\n",
       "      <td>Minute Ready to Serve! Rice Mi... Quinoa Cup -...</td>\n",
       "      <td>($0.36 / Ounce)</td>\n",
       "    </tr>\n",
       "    <tr>\n",
       "      <th>5</th>\n",
       "      <td>Quinoa Cooked - 17.6 Oz</td>\n",
       "      <td>($0.34 / Ounce)</td>\n",
       "    </tr>\n",
       "    <tr>\n",
       "      <th>6</th>\n",
       "      <td>Minute Multi-Grain Medley - 4-3 Oz</td>\n",
       "      <td>($0.37 / Ounce)</td>\n",
       "    </tr>\n",
       "    <tr>\n",
       "      <th>7</th>\n",
       "      <td>Arrowhead Mills Organic Barley Pearled - 28 Oz</td>\n",
       "      <td>($0.27 / Ounce)</td>\n",
       "    </tr>\n",
       "    <tr>\n",
       "      <th>8</th>\n",
       "      <td>Bob's Red Mill Organic Whole G... Free Quinoa ...</td>\n",
       "      <td>($0.50 / Ounce)</td>\n",
       "    </tr>\n",
       "    <tr>\n",
       "      <th>9</th>\n",
       "      <td>Arrowhead Mills Organic Quinoa - 14 Oz</td>\n",
       "      <td>($0.68 / Ounce)</td>\n",
       "    </tr>\n",
       "  </tbody>\n",
       "</table>\n",
       "</div>"
      ],
      "text/plain": [
       "                                    All Grains Names All Grains Prices\n",
       "0                  O Organics Organic Quinoa - 16 Oz   ($0.50 / Ounce)\n",
       "1    Signature SELECT Beans Pearl Barley Dry - 16 Oz   ($0.14 / Ounce)\n",
       "2        O Organics Organic Quinoa Quick-Cook - 8 Oz   ($0.62 / Ounce)\n",
       "3                  O Organics Organic Quinoa - 64 Oz      ($6.25 / Lb)\n",
       "4  Minute Ready to Serve! Rice Mi... Quinoa Cup -...   ($0.36 / Ounce)\n",
       "5                            Quinoa Cooked - 17.6 Oz   ($0.34 / Ounce)\n",
       "6                 Minute Multi-Grain Medley - 4-3 Oz   ($0.37 / Ounce)\n",
       "7     Arrowhead Mills Organic Barley Pearled - 28 Oz   ($0.27 / Ounce)\n",
       "8  Bob's Red Mill Organic Whole G... Free Quinoa ...   ($0.50 / Ounce)\n",
       "9             Arrowhead Mills Organic Quinoa - 14 Oz   ($0.68 / Ounce)"
      ]
     },
     "execution_count": 60,
     "metadata": {},
     "output_type": "execute_result"
    }
   ],
   "source": [
    "# Find all GRAINS products on the page\n",
    "\n",
    "products_names = all_grains.find_all('a', {'data-qa': 'prd-itm-pttl'}, {'class': 'product-title__name'})\n",
    "products_prices = all_grains.find_all('div', {'data-qa': 'prd-itm-pprc-qty'}, {'class': 'product-title__name'})\n",
    "\n",
    "all_grains_names = [name.text for name in products_names]\n",
    "all_grains_prices = [name.text for name in products_prices]\n",
    "\n",
    "\n",
    "df_all_grains = pd.DataFrame({'All Grains Names': all_grains_names, 'All Grains Prices': all_grains_prices})\n",
    "df_all_grains"
   ]
  },
  {
   "cell_type": "code",
   "execution_count": 91,
   "id": "5116d040-3278-4d95-a88d-c36d904dbaa1",
   "metadata": {},
   "outputs": [],
   "source": [
    "df_all_grains.to_csv('all_grains.csv', index=False)"
   ]
  },
  {
   "cell_type": "code",
   "execution_count": 61,
   "id": "70be3b9e-b3f4-43e3-88fd-51d530e04efc",
   "metadata": {},
   "outputs": [
    {
     "name": "stdin",
     "output_type": "stream",
     "text": [
      "Scroll down to the desired location on the page, then press Enter to continue... \n"
     ]
    }
   ],
   "source": [
    "#GETTING PASTA\n",
    "\n",
    "driver = webdriver.Chrome()\n",
    "driver.get(\"https://www.safeway.com/shop/aisles/grains-pasta-sides/pasta.3132.html\")\n",
    "\n",
    "# Manually scroll down the page to the desired location\n",
    "input(\"Scroll down to the desired location on the page, then press Enter to continue...\")\n",
    "\n",
    "\n",
    "# Get the HTML of the page and parse it with BeautifulSoup\n",
    "# KEEP THESE DATA SAVED\n",
    "html = driver.page_source\n",
    "all_pasta = BeautifulSoup(html, 'html.parser')\n",
    "\n",
    "# Close the browser window\n",
    "driver.quit()"
   ]
  },
  {
   "cell_type": "code",
   "execution_count": 24,
   "id": "bb1dcccb-1a4f-48c8-8193-2fa927db9799",
   "metadata": {
    "tags": []
   },
   "outputs": [],
   "source": [
    "# Find all PASTA products on the page\n",
    "\n",
    "products_names = all_pasta.find_all('a', {'data-qa': 'prd-itm-pttl'}, {'class': 'product-title__name'})\n",
    "products_prices = all_pasta.find_all('div', {'data-qa': 'prd-itm-pprc-qty'}, {'class': 'product-title__name'})\n",
    "\n",
    "all_pasta_names = [name.text for name in products_names]\n",
    "all_pasta_prices = [name.text for name in products_prices]\n",
    "\n",
    "\n",
    "df_all_pasta = pd.DataFrame({'All Pasta Names': all_pasta_names, 'All Pasta Prices': all_pasta_prices})\n",
    "df_all_pasta.to_csv('all_pasta.csv', index=False)"
   ]
  },
  {
   "cell_type": "code",
   "execution_count": 25,
   "id": "52e686c4-250c-4675-969b-bc92a32059c2",
   "metadata": {},
   "outputs": [
    {
     "name": "stdout",
     "output_type": "stream",
     "text": [
      "                                     All Pasta Names All Pasta Prices\n",
      "0  Signature SELECT Pasta Egg Noodles Wide Bag - ...  ($0.31 / Ounce)\n",
      "1  Ancient Harvest Supergrain Pas... Spaghetti Bo...  ($0.56 / Ounce)\n",
      "2    Barilla Pasta Spaghetti Gluten Free Box - 12 Oz  ($0.21 / Ounce)\n",
      "3       Signature SELECT Pasta Spaghetti Box - 16 Oz  ($0.10 / Ounce)\n",
      "4       Signature SELECT Pasta Spaghetti Box - 32 Oz  ($0.11 / Ounce)\n"
     ]
    }
   ],
   "source": [
    "data = pd.read_csv('all_pasta.csv')\n",
    "print(data.head())"
   ]
  },
  {
   "cell_type": "code",
   "execution_count": 8,
   "id": "bb09810f-5cc9-4bd3-ad22-6ba504cb48ff",
   "metadata": {},
   "outputs": [
    {
     "name": "stdin",
     "output_type": "stream",
     "text": [
      "Scroll down to the desired location on the page, then press Enter to continue... \n"
     ]
    }
   ],
   "source": [
    "# GETTING ALL FRUITS\n",
    "\n",
    "driver = webdriver.Chrome()\n",
    "driver.get(\"https://www.safeway.com/shop/aisles/fruits-vegetables/fresh-fruits.3132.html\")\n",
    "\n",
    "# Manually scroll down the page to the desired location\n",
    "input(\"Scroll down to the desired location on the page, then press Enter to continue...\")\n",
    "\n",
    "\n",
    "# Get the HTML of the page and parse it with BeautifulSoup\n",
    "# KEEP THESE DATA SAVED\n",
    "html = driver.page_source\n",
    "all_fruits = BeautifulSoup(html, 'html.parser')\n",
    "\n",
    "# Close the browser window\n",
    "driver.quit()"
   ]
  },
  {
   "cell_type": "code",
   "execution_count": 26,
   "id": "498d4ce2-6c51-4d0c-bc2a-d9967d696f0a",
   "metadata": {
    "tags": []
   },
   "outputs": [],
   "source": [
    "# Find all FRUITS products on the page\n",
    "\n",
    "products_names = all_fruits.find_all('a', {'data-qa': 'prd-itm-pttl'}, {'class': 'product-title__name'})\n",
    "products_prices = all_fruits.find_all('div', {'data-qa': 'prd-itm-pprc-qty'}, {'class': 'product-title__name'})\n",
    "\n",
    "all_fruits_names = [name.text for name in products_names]\n",
    "all_fruits_prices = [name.text for name in products_prices]\n",
    "\n",
    "\n",
    "df_all_fruits = pd.DataFrame({'All Fruits Names': all_fruits_names, 'All Fruits Prices': all_fruits_prices})\n",
    "df_all_fruits.to_csv('all_fruits.csv', index=False)"
   ]
  },
  {
   "cell_type": "code",
   "execution_count": 27,
   "id": "cc62f508-e3cd-47a9-a3e8-a3cc180ac4fb",
   "metadata": {},
   "outputs": [
    {
     "name": "stdout",
     "output_type": "stream",
     "text": [
      "                        All Fruits Names All Fruits Prices\n",
      "0                          Banana - Each    ($0.33 / Each)\n",
      "1          Strawberries Prepacked - 1 Lb      ($4.99 / Lb)\n",
      "2           Green Seedless Grapes - 2 Lb      ($3.49 / Lb)\n",
      "3          Blueberries Prepacked - 18 Oz   ($0.39 / Ounce)\n",
      "4  Organic Strawberries Prepacked - 1 Lb      ($5.99 / Lb)\n"
     ]
    }
   ],
   "source": [
    "data = pd.read_csv('all_fruits.csv')\n",
    "print(data.head())"
   ]
  },
  {
   "cell_type": "code",
   "execution_count": 10,
   "id": "2e1ab91b-3ac2-43a4-84cf-1f799a802739",
   "metadata": {},
   "outputs": [
    {
     "name": "stdin",
     "output_type": "stream",
     "text": [
      "Scroll down to the desired location on the page, then press Enter to continue... \n"
     ]
    }
   ],
   "source": [
    "# GETTING ALL VEGGIES\n",
    "\n",
    "driver = webdriver.Chrome()\n",
    "driver.get(\"https://www.safeway.com/shop/aisles/fruits-vegetables/fresh-vegetables-herbs.3132.html\")\n",
    "\n",
    "# Manually scroll down the page to the desired location\n",
    "input(\"Scroll down to the desired location on the page, then press Enter to continue...\")\n",
    "\n",
    "\n",
    "# Get the HTML of the page and parse it with BeautifulSoup\n",
    "# KEEP THESE DATA SAVED\n",
    "html = driver.page_source\n",
    "all_veggies = BeautifulSoup(html, 'html.parser')\n",
    "\n",
    "# Close the browser window\n",
    "driver.quit()"
   ]
  },
  {
   "cell_type": "markdown",
   "id": "65018fce-9d52-49fe-a638-c1b0344fb631",
   "metadata": {},
   "source": [
    "Subsequently, the same was done for all food types. Additional problems occurred when getting vegetables, as some of the pricing information was missing"
   ]
  },
  {
   "cell_type": "code",
   "execution_count": 28,
   "id": "f2949741-07d8-4c1a-9901-0d6bc674a5ac",
   "metadata": {
    "tags": []
   },
   "outputs": [],
   "source": [
    "# Find all VEGGIES products on the page\n",
    "\n",
    "# products = all_vegies_fruits.find_all('div', {'class': 'product-title'}, {'data-name'})\n",
    "\n",
    "\n",
    "products_names = all_veggies.find_all('a', {'data-qa': 'prd-itm-pttl'}, {'class': 'product-title__name'})\n",
    "products_prices = all_veggies.find_all('div', {'data-qa': 'prd-itm-pprc-qty'}, {'class': 'product-title__name'})\n",
    "\n",
    "all_veggies_names = [name.text for name in products_names]\n",
    "all_veggies_prices = [name.text for name in products_prices]\n",
    "\n",
    "\n",
    "# data cleaning via looking for missing price values (see below for the values found and cleaned out:\n",
    "\n",
    "# list1 = all_veggies_names\n",
    "# list2 = all_veggies_prices\n",
    "\n",
    "# if len(list1) < len(list2):\n",
    "#     list1 += [float('nan')] * (len(list2) - len(list1))\n",
    "# else:\n",
    "#     list2 += [float('nan')] * (len(list1) - len(list2))\n",
    "\n",
    "# df = pd.DataFrame({'col1': list1, 'col2': list2})\n",
    "\n",
    "# # Set display options to show all rows and columns\n",
    "# pd.set_option('display.max_rows', None)\n",
    "# pd.set_option('display.max_columns', None)\n",
    "\n",
    "# print(df)\n",
    "\n",
    "# cleaning addittional data for foods that have fuzzy price values\n",
    "del all_veggies_names[69]\n",
    "del all_veggies_names[157]\n",
    "del all_veggies_names[229]\n",
    "del all_veggies_names[293]\n",
    "del all_veggies_names[346]\n",
    "del all_veggies_names[363]\n",
    "del all_veggies_names[411]\n",
    "del all_veggies_names[431]\n",
    "\n",
    "\n",
    "df_all_veggies = pd.DataFrame({'All Veggies Names': all_veggies_names, 'All Veggies Prices': all_veggies_prices})\n",
    "df_all_veggies.to_csv('all_veggies.csv', index=False)"
   ]
  },
  {
   "cell_type": "code",
   "execution_count": 29,
   "id": "8f7154d5-a4b1-42df-8c4f-a56993e5249d",
   "metadata": {},
   "outputs": [
    {
     "name": "stdout",
     "output_type": "stream",
     "text": [
      "                                   All Veggies Names All Veggies Prices\n",
      "0                                           Cucumber     ($1.00 / Each)\n",
      "1                                     Broccoli Crown       ($3.49 / Lb)\n",
      "2                                    Green Asparagus       ($4.99 / Lb)\n",
      "3  Signature Farms Romaine Hearts Prepackaged - 3...    ($1.33 / Count)\n",
      "4                                   Celery - 1 Bunch     ($2.99 / Each)\n"
     ]
    }
   ],
   "source": [
    "data = pd.read_csv('all_veggies.csv')\n",
    "print(data.head())"
   ]
  },
  {
   "cell_type": "markdown",
   "id": "cd409a8d-22e9-4c72-98a4-ef4c7fa34180",
   "metadata": {},
   "source": [
    "The data was subsequently converted into several CSV files and concatenated into a large CSV file, where\n",
    "the price per mass was calculated"
   ]
  },
  {
   "cell_type": "code",
   "execution_count": 24,
   "id": "5581f5a9-565d-4eb3-ae20-bc32835b6457",
   "metadata": {},
   "outputs": [],
   "source": [
    "# List of CSV files to concatenate\n",
    "csv_files = ['all_meat_seafood.csv', 'all_yogurt_pudding.csv', 'all_cheese.csv', 'all_milk_cream.csv', 'all_butter_sour_cream.csv', 'all_eggs.csv', 'all_rice.csv', 'all_grains.csv', 'all_stuffing.csv', 'all_pasta.csv', 'all_fruits.csv', 'all_veggies.csv']\n",
    "\n",
    "# List to store DataFrames for each CSV file\n",
    "dfs = []\n",
    "\n",
    "# Loop through CSV files and read them into a DataFrame, removing headers\n",
    "for csv_file in csv_files:\n",
    "    df = pd.read_csv(csv_file, usecols=[0, 1], skiprows=[0], header=None)\n",
    "    df.columns = ['Name', 'Price']\n",
    "    dfs.append(df)\n",
    "\n",
    "# Concatenate DataFrames into a single DataFrame\n",
    "result = pd.concat(dfs)\n",
    "\n",
    "# Save concatenated DataFrame to a new CSV file\n",
    "result.to_csv('concatenated_file.csv', index=False)"
   ]
  },
  {
   "cell_type": "code",
   "execution_count": 51,
   "id": "e9299893-f13e-4b8b-b964-6070620f8e84",
   "metadata": {},
   "outputs": [],
   "source": [
    "# read in the csv file\n",
    "df = pd.read_csv('concatenated_file.csv')\n",
    "\n",
    "# function to extract float from string\n",
    "def extract_float(text):\n",
    "    try:\n",
    "        return float(re.findall('\\d+\\.\\d+|\\d+', text)[0])\n",
    "    except:\n",
    "        return 0\n",
    "\n",
    "# create new column by multiplying values from columns 1 and 2\n",
    "df['Mass per money'] = df['Name'].apply(lambda x: extract_float(x.split(\"-\")[-1])).astype(float) * df['Price'].apply(extract_float).astype(float)\n",
    "\n",
    "# create fourth column based on 'Mass per money' column criteria\n",
    "df['Fourth Column'] = df['Mass per money']\n",
    "df.loc[df['Mass per money'] == 0, 'Fourth Column'] = df['Price'].apply(extract_float).astype(float)\n",
    "\n",
    "# save updated dataframe to a new csv file\n",
    "df.to_csv('UPDATED_ALL_DATA.csv', index=False)\n"
   ]
  },
  {
   "cell_type": "code",
   "execution_count": 53,
   "id": "f9c434f3-1b31-4571-a7f0-d3b6d64600eb",
   "metadata": {},
   "outputs": [],
   "source": [
    "# read in the updated csv file\n",
    "df = pd.read_csv('UPDATED_ALL_DATA.csv')\n",
    "\n",
    "# create new dataframe with only first and fourth columns\n",
    "new_df = df.loc[:, ['Name', 'Fourth Column']]\n",
    "\n",
    "# save new dataframe to a new csv file\n",
    "new_df.to_csv('ALL_FOOD_PRICE.csv', index=False)"
   ]
  },
  {
   "cell_type": "markdown",
   "id": "4322e862-6a35-4496-84ea-bc28682f787b",
   "metadata": {},
   "source": [
    "Unfortunately, the Safeway nutritional data has to be clicked on, one by one, to be obtained, and there are\n",
    "over 5k values! There is an alternative solution. The US Department of Agriculture has a data dump file\n",
    "”2019-2020 FNDDS At A Glance - FNDDS Nutrient Values” in https://www.usda.gov/ where the nutritional\n",
    "values of many foods are listed. It would be rather obvious that the names of foods will have to match with\n",
    "one another"
   ]
  },
  {
   "cell_type": "markdown",
   "id": "a663100e-61fd-4ef1-a852-f53e5f98f092",
   "metadata": {},
   "source": [
    "# 2. Implementing the Levenshtein Distance\n",
    "\n",
    "The Levenshtein distance, also known as the edit distance, is a measure of the similarity between two strings. It is defined as the minimum number of single-character edits (insertions, deletions, or substitutions) required to transform one string into the other.\n",
    "\n",
    "The Levenshtein distance between two strings can be efficiently computed using a dynamic programming algorithm. Let $s$ and $t$ be the input strings of length $m$ and $n$, respectively. We define a matrix $D$ of size $(m+1) \\times (n+1)$, where $D_{i,j}$ represents the Levenshtein distance between the substrings $s_1 \\ldots s_i$ and $t_1 \\ldots t_j$. The matrix is initialized as follows:\n",
    "\n",
    "\\begin{align}\n",
    "D_{i,0} &= i, \\quad 0 \\leq i \\leq m \\\\\n",
    "D_{0,j} &= j, \\quad 0 \\leq j \\leq n\n",
    "\\end{align}\n",
    "\n",
    "The matrix is then filled row by row using the following recurrence relation:\n",
    "\n",
    "\\begin{equation}\n",
    "D_{i,j} = \\min \\begin{cases}\n",
    "D_{i-1, j} + 1 \\\\\n",
    "D_{i, j-1} + 1 \\\\\n",
    "D_{i-1, j-1} + \\delta(s_i, t_j)\n",
    "\\end{cases}\n",
    "\\end{equation}\n",
    "\n",
    "Where $\\delta(a, b)$ is an indicator function that returns $0$ if $a = b$ and $1$ otherwise.\n",
    "\n",
    "After filling the matrix, the Levenshtein distance between strings $s$ and $t$ is given by the value in the bottom-right corner of the matrix:\n",
    "\n",
    "\\begin{equation}\n",
    "L(s, t) = D_{m,n}\n",
    "\\end{equation}\n",
    "\n",
    "\n",
    "The file '2019-2020 FNDDS At A Glance - FNDDS Nutrient Values' was slightly altered without some rows and columns into 'stigler nutrional values.csv'. The goal, then will be to pair the most similar strings with the nutritional values:"
   ]
  },
  {
   "cell_type": "code",
   "execution_count": null,
   "id": "205336cc-43d5-4033-8270-f4232284aae4",
   "metadata": {},
   "outputs": [],
   "source": [
    "import Levenshtein\n",
    "\n",
    "#  Using the python-Levenshtein library to calculate the Levenshtein distance.\n",
    "\n",
    "# Read CSV files\n",
    "file_F = pd.read_csv('ALL_FOOD_PRICE.csv')\n",
    "file_N = pd.read_csv('stigler nutrional values.csv')\n",
    "\n",
    "\n",
    "# This code will read the CSV files, compare names using the Levenshtein distance,\n",
    "# Function to find the most similar name\n",
    "def find_most_similar_name(name_N, names_F, matched_names):\n",
    "    best_match = None\n",
    "    best_match_index = None\n",
    "    min_distance = float('inf')\n",
    "\n",
    "    for index, name_F in enumerate(names_F):\n",
    "        if index not in matched_names:\n",
    "            distance = Levenshtein.distance(name_N, name_F)\n",
    "\n",
    "            if distance < min_distance:\n",
    "                min_distance = distance\n",
    "                best_match = name_F\n",
    "                best_match_index = index\n",
    "\n",
    "    return best_match, best_match_index\n",
    "\n",
    "# Set to keep track of matched names\n",
    "# keep track of the names that have already been matched in file\n",
    "# ensure that a name is not matched more than once.\n",
    "\n",
    "matched_names = set()\n",
    "\n",
    "# Iterate through each row in file_N\n",
    "# If a name in file N has a closer match to a name that has already been matched in file F, \n",
    "# it will skip that name and find the next most similar name in file F that hasn't been matched yet.\n",
    "for index, row in file_N.iterrows():\n",
    "    name_N = row['Main food description']\n",
    "    most_similar_name_F, most_similar_name_index = find_most_similar_name(name_N, file_F.iloc[:, 0], matched_names)\n",
    "\n",
    "    # Update matched_names set\n",
    "    matched_names.add(most_similar_name_F)\n",
    "\n",
    "    # Append values from file_N to the corresponding row in file_F\n",
    "    for col in file_N.columns[1:]:\n",
    "        file_F.loc[file_F.iloc[:, 0] == most_similar_name_F, col] = row[col]\n",
    "\n",
    "# Save the updated file_F to a new CSV file\n",
    "file_F.to_csv('FINALoutput.csv', index=False)"
   ]
  },
  {
   "cell_type": "markdown",
   "id": "26fcd762-046a-4cb6-abdc-fe2fbfae1b62",
   "metadata": {},
   "source": [
    "The mostly empty rows (the names that didn't have any matches) are eliminated since nutritional values for them are not available. Additionally, because the nutritional data is in terms of 100 g per unit food, it needs to be converted either into pounds or ounces."
   ]
  },
  {
   "cell_type": "code",
   "execution_count": null,
   "id": "7aee64bd-32c2-4559-8030-03bb9b8db1e2",
   "metadata": {},
   "outputs": [],
   "source": [
    "# Amount per 100 g edible portion for energy and 64 nutrients\n",
    "\n",
    "# Keep rows with values in all specified columns\n",
    "specified_columns = list(file_N.columns[1:])\n",
    "filtered_rows = file_F.dropna(subset=specified_columns)\n",
    "\n",
    "# Save the filtered rows to a new CSV file\n",
    "filtered_rows.to_csv('SECONDFINALoutput.csv', index=False)"
   ]
  },
  {
   "cell_type": "code",
   "execution_count": null,
   "id": "8fc69d5c-af28-4453-976e-6afd409a854e",
   "metadata": {},
   "outputs": [],
   "source": [
    "# This script reads the SECONDFINALoutput.csv\n",
    "# file, processes the names in the \"Name\" column, \n",
    "# extracts the numerical value and the \n",
    "# letter (L or O), calculates the multiplier, and then \n",
    "# multiplies the rest of the row values by \n",
    "# the multiplier. The result is saved in a new CSV \n",
    "# file called THIRDFINALoutput.csv.\n",
    "\n",
    "# The first value right after \"-\" is a \n",
    "#numerical value that needs to be converted into a float. \n",
    "# The second value after \"-\"  is a value \n",
    "# that starts with either a lower case or upper \"L\", \n",
    "# or a value that starts with  either a lower\n",
    "#case or upper \"O\". If the value that starts \n",
    "# with either a lower case or upper \"L\", \n",
    "# multiply the first value times 0.220462 to create\n",
    "# p value, and then multiply the rest of \n",
    "# the row values by p. If the value that starts \n",
    "# with either a lower case or upper \"O\", \n",
    "# multiply the first value times 3.5274 to create\n",
    "# h value, and then multiply the rest of \n",
    "# the row values by h staring in column 2 and so on\n",
    "\n",
    "import pandas as pd\n",
    "import re\n",
    "\n",
    "def extract_float(text):\n",
    "    try:\n",
    "        return float(re.findall('\\d+\\.\\d+|\\d+', text)[0])\n",
    "    except:\n",
    "        return 0\n",
    "\n",
    "# Read the CSV file\n",
    "df = pd.read_csv('SECONDFINALoutput.csv')\n",
    "\n",
    "# Iterate through each row in the DataFrame\n",
    "for index, row in df.iterrows():\n",
    "    name = row['Name']\n",
    "    splitted_name = name.split('-')\n",
    "    if len(splitted_name) > 1:\n",
    "        multiplier = extract_float(splitted_name[-1])\n",
    "\n",
    "        if 'L' in splitted_name[-1].upper():\n",
    "            multiplier *= 0.220462\n",
    "        elif 'O' in splitted_name[-1].upper():\n",
    "            multiplier *= 3.5274\n",
    "\n",
    "        # Multiply the values in the rest of the columns by the multiplier\n",
    "        for col in df.columns[2:]:\n",
    "            df.at[index, col] = df.at[index, col] * multiplier\n",
    "\n",
    "# Save the updated DataFrame to a new CSV file\n",
    "df.to_csv('THIRDFINALoutput.csv', index=False)"
   ]
  },
  {
   "cell_type": "markdown",
   "id": "79c1a121-21ac-4f4e-b2f6-0b4a78cd4786",
   "metadata": {},
   "source": [
    "Now it is possible to use linear optimization to find the Stigler Diet Solution. Sadly, after many trials, a linear optimization algorithm could not be developed y from scratch. Thankfully, the SciPy library has one to finish the project. The scipy.optimize.linprog function source describes the use of the primal-dual path-following method to find the minimal solution in a linear optimization problem."
   ]
  },
  {
   "cell_type": "markdown",
   "id": "9c3ca132-60a7-4c35-8757-80f2ac0c8e4a",
   "metadata": {},
   "source": [
    "# 3. The Primal-Dual Path-Following Method\n",
    "\n",
    "The primal-dual path-following method is an interior-point algorithm for solving linear programming problems. It is an iterative algorithm that seeks a solution to both the primal and the dual linear programming problems simultaneously while maintaining their feasibility and complementary conditions.\n",
    "\n",
    "Consider the following linear programming problem in the standard form:\n",
    "\n",
    "\\begin{align}\n",
    "\\text{minimize} \\quad & \\mathbf{c}^T \\mathbf{x} \\\\\n",
    "\\text{subject to} \\quad & \\mathbf{A} \\mathbf{x} = \\mathbf{b} \\\\\n",
    "& \\mathbf{x} \\geq \\mathbf{0}\n",
    "\\end{align}\n",
    "\n",
    "Where $\\mathbf{x} \\in \\mathbb{R}^n$ is the decision variable, $\\mathbf{c} \\in \\mathbb{R}^n$ is the cost vector, $\\mathbf{A} \\in \\mathbb{R}^{m \\times n}$ is the constraint matrix, and $\\mathbf{b} \\in \\mathbb{R}^m$ is the right-hand side vector.\n",
    "\n",
    "The dual problem can be formulated as:\n",
    "\n",
    "\\begin{align}\n",
    "\\text{maximize} \\quad & \\mathbf{b}^T \\mathbf{y} \\\\\n",
    "\\text{subject to} \\quad & \\mathbf{A}^T \\mathbf{y} + \\mathbf{s} = \\mathbf{c} \\\\\n",
    "& \\mathbf{s} \\geq \\mathbf{0}\n",
    "\\end{align}\n",
    "\n",
    "Where $\\mathbf{y} \\in \\mathbb{R}^m$ is the dual variable and $\\mathbf{s} \\in \\mathbb{R}^n$ is the slack variable.\n",
    "\n",
    "\n",
    "The primal-dual path-following algorithm maintains a sequence of approximate solutions $(\\mathbf{x}^k, \\mathbf{y}^k, \\mathbf{s}^k)$ to the primal and dual problems. At each iteration, the algorithm seeks to improve the solutions by computing a search direction $(\\Delta \\mathbf{x}^k, \\Delta \\mathbf{y}^k, \\Delta \\mathbf{s}^k)$ that aims to satisfy the feasibility and complementarity conditions:\n",
    "\n",
    "\\begin{align}\n",
    "\\mathbf{A} \\mathbf{x}^k &= \\mathbf{b} \\\\\n",
    "\\mathbf{A}^T \\mathbf{y}^k + \\mathbf{s}^k &= \\mathbf{c} \\\\\n",
    "\\mathbf{x}^k_i \\mathbf{s}^k_i &= \\mu^k, \\quad i = 1, \\ldots, n\n",
    "\\end{align}\n",
    "\n",
    "Where $\\mu^k = \\frac{\\mathbf{x}^{kT} \\mathbf{s}^k}{n}$ is the complementarity measure or duality gap, which provides an approximation of how far the current solution is from optimality. The goal of the primal-dual path-following algorithm is to reduce the duality gap while maintaining the feasibility and complementarity conditions.\n",
    "\n",
    "\n",
    "The search direction $(\\Delta \\mathbf{x}^k, \\Delta \\mathbf{y}^k, \\Delta \\mathbf{s}^k)$ can be computed by solving the following linear system of equations, also known as the affine scaling direction:\n",
    "\n",
    "\\begin{equation}\n",
    "\\begin{bmatrix}\n",
    "\\mathbf{0} & \\mathbf{A}^T & \\mathbf{I} \\\\\n",
    "\\mathbf{A} & \\mathbf{0} & \\mathbf{0} \\\\\n",
    "\\mathbf{S}^k & \\mathbf{0} & \\mathbf{X}^k\n",
    "\\end{bmatrix}\n",
    "\\begin{bmatrix}\n",
    "\\Delta \\mathbf{x}^k \\\\\n",
    "\\Delta \\mathbf{y}^k \\\\\n",
    "\\Delta \\mathbf{s}^k\n",
    "\\end{bmatrix}\n",
    "=\n",
    "\\begin{bmatrix}\n",
    "\\mathbf{c} - \\mathbf{A}^T \\mathbf{y}^k - \\mathbf{s}^k \\\\\n",
    "\\mathbf{b} - \\mathbf{A} \\mathbf{x}^k \\\\\n",
    "-\\mathbf{X}^k \\mathbf{S}^k \\mathbf{e} + \\tau \\mu^k \\mathbf{e}\n",
    "\\end{bmatrix}\n",
    "\\end{equation}\n",
    "\n",
    "Where $\\mathbf{X}^k = \\text{diag}(\\mathbf{x}^k)$, $\\mathbf{S}^k = \\text{diag}(\\mathbf{s}^k)$, $\\mathbf{e}$ is the vector of all ones, and $\\tau \\in (0, 1)$ is the centering parameter.\n",
    "\n",
    "After computing the search direction, a line search is performed to find the step sizes $\\alpha_p$ and $\\alpha_d$ for the primal and dual variables, respectively, such that the new iterates $(\\mathbf{x}^{k+1}, \\mathbf{y}^{k+1}, \\mathbf{s}^{k+1})$ remain feasible:\n",
    "\n",
    "\\begin{align}\n",
    "\\mathbf{x}^{k+1} &= \\mathbf{x}^k + \\alpha_p \\Delta \\mathbf{x}^k \\\\\n",
    "\\mathbf{y}^{k+1} &= \\mathbf{y}^k + \\alpha_d \\Delta \\mathbf{y}^k \\\\\n",
    "\\mathbf{s}^{k+1} &= \\mathbf{s}^k + \\alpha_d \\Delta \\mathbf{s}^k\n",
    "\\end{align}\n",
    "\n",
    "The step sizes are typically chosen such that the iterates do not cross the boundary of the feasible region, and a fraction-to-the-boundary rule is commonly used.\n",
    "\n",
    "The algorithm terminates when the duality gap $\\mathbf{x}^{kT} \\mathbf{s}^k$, primal infeasibility $\\|\\mathbf{A}\\mathbf{x}^k - \\mathbf{b}\\|$, and dual infeasibility $\\|\\mathbf{A}^T\\mathbf{y}^k + \\mathbf{s}^k - \\mathbf{c}\\|$ are smaller than a predefined tolerance level $\\epsilon$:\n",
    "\n",
    "\\begin{equation}\n",
    "\\frac{\\mathbf{x}^{kT} \\mathbf{s}^k}{n} \\leq \\epsilon \\quad \\text{and} \\quad \\|\\mathbf{A}\\mathbf{x}^k - \\mathbf{b}\\| \\leq \\epsilon \\quad \\text{and} \\quad \\|\\mathbf{A}^T\\mathbf{y}^k + \\mathbf{s}^k - \\mathbf{c}\\| \\leq \\epsilon\n",
    "\\end{equation}\n",
    "\n",
    "Now we can use linear optimization to find the stigler diet. "
   ]
  },
  {
   "cell_type": "code",
   "execution_count": 1,
   "id": "3c3afe4f-45fd-4fbe-a050-7947d520f93d",
   "metadata": {},
   "outputs": [
    {
     "name": "stdout",
     "output_type": "stream",
     "text": [
      "Minimum cost of the diet: 20.812124780243167\n",
      "Lactaid 2% Reduced Fat Milk - 96 Oz: 0.12597395825322255, Price: 7.68\n",
      "Oatly Oat Milk Original - 64 Oz: 3.445250830010142, Price: 5.76\n"
     ]
    }
   ],
   "source": [
    "import numpy as np\n",
    "import pandas as pd\n",
    "from scipy.optimize import linprog\n",
    "\n",
    "# Read the CSV file\n",
    "df = pd.read_csv('THIRDFINALoutput.csv')\n",
    "\n",
    "# Extract the objective function coefficients \n",
    "# (the second column named 'Fourth Column', has \n",
    "# the corresponding food prices)\n",
    "c = df['Fourth Column'].values\n",
    "\n",
    "# Extract the constraint matrix:\n",
    "# (nutritional contents: 'Energy (kcal)', 'Protein (g)',\n",
    "# 'Fatty acids, total monounsaturated and polyunsaturated (good fats) (g)',\n",
    "# 'Carbohydrate (g)', 'Fiber, total dietary (g)',\n",
    " # 'Vitamin A, RAE (mcg_RAE)', 'Vitamin C (mg)', 'Calcium (mg)',\n",
    "# 'Iron\\n(mg)', 'Vitamin D (D2 + D3) (mcg)',\n",
    "# 'Vitamin E (alpha-tocopherol)  and added (mg)', 'Folate, total (mcg)',\n",
    "# 'Vitamin B-12, added\\n(mcg)')\n",
    "A_eq = df.iloc[:, 2:].values.T\n",
    "\n",
    "\n",
    "# Flip the signs of the inequalities to use less-than-or-equal-to constraints\n",
    "A_ineq = -1 * A_eq\n",
    "\n",
    "# Constraint bounds (times 7 because we are \n",
    "# looking at weekly compsuption, since going \n",
    "# every day to the store is time consuming, \n",
    "# and buying in bulk may be cheaper)\n",
    "# I took the upper bound of the minimun requirements \n",
    "# for an adult male who is very physically active\n",
    "b_ineq = np.array([-3000*7, -56*7, -0.2 * 3000*7, -0.45 * 3000*7, -38*7, -700*7, -75*7, -1000*7, -8*7, -600*7, -15*7, -400*7, -2.4*7])\n",
    "\n",
    "# Solve the problem\n",
    "res = linprog(c, A_ub=A_ineq, b_ub=b_ineq)\n",
    "\n",
    "# Print the results\n",
    "np.set_printoptions(threshold=np.inf)\n",
    "# print(\"Optimal solution (Food quantities):\", res.x)\n",
    "print(\"Minimum cost of the diet:\", res.fun)\n",
    "\n",
    "\n",
    "# Print the food names, their corresponding non-zero quantities, and their prices\n",
    "food_names = df['Name'].values\n",
    "food_prices = df['Fourth Column'].values\n",
    "optimal_quantities = res.x\n",
    "\n",
    "for name, price, quantity in zip(food_names, food_prices, optimal_quantities):\n",
    "    if quantity > 1e-6:  # A small threshold to account for floating-point errors\n",
    "        print(f\"{name}: {quantity}, Price: {price}\")"
   ]
  },
  {
   "cell_type": "markdown",
   "id": "7b1dbfd3-d3a9-49af-8492-b0d5d49d1fde",
   "metadata": {},
   "source": [
    "Looking at the total amount of 7.68 + 5.76 = 13.44, and comparing it with the FDA's report (https://www.fns.usda.gov/cnpp/usda-food-plans-cost-food-reports-monthly-reports) on average weekly food expenditures, which range from 68.70 to 104.70, the expenditures were reduced by a range approximately from 80% to 87%."
   ]
  },
  {
   "cell_type": "markdown",
   "id": "d1d55792-a705-4440-b5ad-99e2c1863fe5",
   "metadata": {},
   "source": [
    "This study demonstrates we can approach to solving the Stigler Diet problem by combining modern data scraping techniques, the Levenshtein distance for string matching, and the primal-dual path-following method for linear optimization. By incorporating real-time food prices and comprehensive nutritional information, the proposed solution better reflects the actual dietary needs and cost considerations of individuals. However, it is essential to note that this study's approach is still limited by certain factors, such as missing price information, and most importantly, the limitations of the monotone diet. Future considerations could focus on refining the data collection process, incorporating additional factors like taste preferences and cultural influences, using a condorcet voting system along with the Levenshtein Distance, and extending the method to account for other essential nutrients or non-nutrient factors in a healthy diet."
   ]
  },
  {
   "cell_type": "markdown",
   "id": "9d932c17-c268-410e-8b69-2a5765ef9ec8",
   "metadata": {},
   "source": [
    "### References\n",
    "\n",
    "Levenshtein Distance\n",
    "\n",
    "https://rosettacode.org/wiki/Levenshtein_distance\n",
    "\n",
    "http://www.ics.uci.edu/~dan/pubs/p341-hirschberg.pdf\n",
    "\n",
    "Linear Optimization: The Primal-Dual Path-Following Method\n",
    "\n",
    "https://docs.scipy.org/doc/scipy/reference/generated/scipy.optimize.linprog.html\n",
    "\n",
    "https://www.stat.cmu.edu/~ryantibs/convexopt-S15/lectures/16-primal-dual.pdf\n",
    "\n",
    "https://www.numerical.rl.ac.uk/people/nimg/course/lectures/raphael/lectures/lec16slides.pdf"
   ]
  },
  {
   "cell_type": "code",
   "execution_count": null,
   "id": "0fb9761e-4e6e-431e-aee6-5df8831f84f6",
   "metadata": {},
   "outputs": [],
   "source": []
  }
 ],
 "metadata": {
  "kernelspec": {
   "display_name": "Python 3 (ipykernel)",
   "language": "python",
   "name": "python3"
  },
  "language_info": {
   "codemirror_mode": {
    "name": "ipython",
    "version": 3
   },
   "file_extension": ".py",
   "mimetype": "text/x-python",
   "name": "python",
   "nbconvert_exporter": "python",
   "pygments_lexer": "ipython3",
   "version": "3.9.13"
  }
 },
 "nbformat": 4,
 "nbformat_minor": 5
}
